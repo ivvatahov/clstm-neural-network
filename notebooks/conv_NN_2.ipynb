{
 "cells": [
  {
   "cell_type": "markdown",
   "metadata": {
    "colab_type": "text",
    "id": "4embtkV0pNxM"
   },
   "source": [
    "# Convolutional Neural Networks 2\n",
    "\n",
    "Previously we trained fully connected networks to classify [notMNIST](http://yaroslavvb.blogspot.com/2011/09/notmnist-dataset.html) characters.\n",
    "\n",
    "The goal of this assignment is make the neural network convolutional."
   ]
  },
  {
   "cell_type": "code",
   "execution_count": 2,
   "metadata": {
    "cellView": "both",
    "colab": {
     "autoexec": {
      "startup": false,
      "wait_interval": 0
     }
    },
    "colab_type": "code",
    "collapsed": true,
    "id": "tm2CQN_Cpwj0"
   },
   "outputs": [],
   "source": [
    "# These are all the modules we'll be using later. Make sure you can import them\n",
    "# before proceeding further.\n",
    "from __future__ import print_function\n",
    "import numpy as np\n",
    "import tensorflow as tf\n",
    "from six.moves import cPickle as pickle\n",
    "from six.moves import range"
   ]
  },
  {
   "cell_type": "code",
   "execution_count": 3,
   "metadata": {
    "cellView": "both",
    "colab": {
     "autoexec": {
      "startup": false,
      "wait_interval": 0
     },
     "output_extras": [
      {
       "item_id": 1
      }
     ]
    },
    "colab_type": "code",
    "executionInfo": {
     "elapsed": 11948,
     "status": "ok",
     "timestamp": 1446658914837,
     "user": {
      "color": "",
      "displayName": "",
      "isAnonymous": false,
      "isMe": true,
      "permissionId": "",
      "photoUrl": "",
      "sessionId": "0",
      "userId": ""
     },
     "user_tz": 480
    },
    "id": "y3-cj1bpmuxc",
    "outputId": "016b1a51-0290-4b08-efdb-8c95ffc3cd01"
   },
   "outputs": [
    {
     "name": "stdout",
     "output_type": "stream",
     "text": [
      "Training set (200000, 28, 28) (200000,)\n",
      "Validation set (10000, 28, 28) (10000,)\n",
      "Test set (10000, 28, 28) (10000,)\n"
     ]
    }
   ],
   "source": [
    "pickle_file = '/input/notMNIST.pickle'\n",
    "\n",
    "with open(pickle_file, 'rb') as f:\n",
    "  save = pickle.load(f)\n",
    "  train_dataset = save['train_dataset']\n",
    "  train_labels = save['train_labels']\n",
    "  valid_dataset = save['valid_dataset']\n",
    "  valid_labels = save['valid_labels']\n",
    "  test_dataset = save['test_dataset']\n",
    "  test_labels = save['test_labels']\n",
    "  del save  # hint to help gc free up memory\n",
    "  print('Training set', train_dataset.shape, train_labels.shape)\n",
    "  print('Validation set', valid_dataset.shape, valid_labels.shape)\n",
    "  print('Test set', test_dataset.shape, test_labels.shape)"
   ]
  },
  {
   "cell_type": "markdown",
   "metadata": {
    "colab_type": "text",
    "id": "L7aHrm6nGDMB"
   },
   "source": [
    "Reformat into a TensorFlow-friendly shape:\n",
    "- convolutions need the image data formatted as a cube (width by height by #channels)\n",
    "- labels as float 1-hot encodings."
   ]
  },
  {
   "cell_type": "code",
   "execution_count": 6,
   "metadata": {
    "cellView": "both",
    "colab": {
     "autoexec": {
      "startup": false,
      "wait_interval": 0
     },
     "output_extras": [
      {
       "item_id": 1
      }
     ]
    },
    "colab_type": "code",
    "executionInfo": {
     "elapsed": 11952,
     "status": "ok",
     "timestamp": 1446658914857,
     "user": {
      "color": "",
      "displayName": "",
      "isAnonymous": false,
      "isMe": true,
      "permissionId": "",
      "photoUrl": "",
      "sessionId": "0",
      "userId": ""
     },
     "user_tz": 480
    },
    "id": "IRSyYiIIGIzS",
    "outputId": "650a208c-8359-4852-f4f5-8bf10e80ef6c"
   },
   "outputs": [
    {
     "ename": "NameError",
     "evalue": "name 'train_dataset' is not defined",
     "output_type": "error",
     "traceback": [
      "\u001b[0;31m---------------------------------------------------------------------------\u001b[0m",
      "\u001b[0;31mNameError\u001b[0m                                 Traceback (most recent call last)",
      "\u001b[0;32m<ipython-input-6-a1c7e02df051>\u001b[0m in \u001b[0;36m<module>\u001b[0;34m()\u001b[0m\n\u001b[1;32m     11\u001b[0m   \u001b[0mlabels\u001b[0m \u001b[0;34m=\u001b[0m \u001b[0;34m(\u001b[0m\u001b[0mnp\u001b[0m\u001b[0;34m.\u001b[0m\u001b[0marange\u001b[0m\u001b[0;34m(\u001b[0m\u001b[0mnum_labels\u001b[0m\u001b[0;34m)\u001b[0m \u001b[0;34m==\u001b[0m \u001b[0mlabels\u001b[0m\u001b[0;34m[\u001b[0m\u001b[0;34m:\u001b[0m\u001b[0;34m,\u001b[0m\u001b[0mNone\u001b[0m\u001b[0;34m]\u001b[0m\u001b[0;34m)\u001b[0m\u001b[0;34m.\u001b[0m\u001b[0mastype\u001b[0m\u001b[0;34m(\u001b[0m\u001b[0mnp\u001b[0m\u001b[0;34m.\u001b[0m\u001b[0mfloat32\u001b[0m\u001b[0;34m)\u001b[0m\u001b[0;34m\u001b[0m\u001b[0m\n\u001b[1;32m     12\u001b[0m   \u001b[0;32mreturn\u001b[0m \u001b[0mdataset\u001b[0m\u001b[0;34m,\u001b[0m \u001b[0mlabels\u001b[0m\u001b[0;34m\u001b[0m\u001b[0m\n\u001b[0;32m---> 13\u001b[0;31m \u001b[0mtrain_dataset\u001b[0m\u001b[0;34m,\u001b[0m \u001b[0mtrain_labels\u001b[0m \u001b[0;34m=\u001b[0m \u001b[0mreformat\u001b[0m\u001b[0;34m(\u001b[0m\u001b[0mtrain_dataset\u001b[0m\u001b[0;34m,\u001b[0m \u001b[0mtrain_labels\u001b[0m\u001b[0;34m)\u001b[0m\u001b[0;34m\u001b[0m\u001b[0m\n\u001b[0m\u001b[1;32m     14\u001b[0m \u001b[0mvalid_dataset\u001b[0m\u001b[0;34m,\u001b[0m \u001b[0mvalid_labels\u001b[0m \u001b[0;34m=\u001b[0m \u001b[0mreformat\u001b[0m\u001b[0;34m(\u001b[0m\u001b[0mvalid_dataset\u001b[0m\u001b[0;34m,\u001b[0m \u001b[0mvalid_labels\u001b[0m\u001b[0;34m)\u001b[0m\u001b[0;34m\u001b[0m\u001b[0m\n\u001b[1;32m     15\u001b[0m \u001b[0mtest_dataset\u001b[0m\u001b[0;34m,\u001b[0m \u001b[0mtest_labels\u001b[0m \u001b[0;34m=\u001b[0m \u001b[0mreformat\u001b[0m\u001b[0;34m(\u001b[0m\u001b[0mtest_dataset\u001b[0m\u001b[0;34m,\u001b[0m \u001b[0mtest_labels\u001b[0m\u001b[0;34m)\u001b[0m\u001b[0;34m\u001b[0m\u001b[0m\n",
      "\u001b[0;31mNameError\u001b[0m: name 'train_dataset' is not defined"
     ]
    }
   ],
   "source": [
    "image_size = 28\n",
    "num_labels = 10\n",
    "num_channels = 1 # grayscale\n",
    "\n",
    "import numpy as np\n",
    "\n",
    "def reformat(dataset, labels):\n",
    "  dataset = dataset.reshape(\n",
    "    (-1, image_size, image_size, num_channels)).astype(np.float32)\n",
    "  labels = (np.arange(num_labels) == labels[:,None]).astype(np.float32)\n",
    "  return dataset, labels\n",
    "train_dataset, train_labels = reformat(train_dataset, train_labels)\n",
    "valid_dataset, valid_labels = reformat(valid_dataset, valid_labels)\n",
    "test_dataset, test_labels = reformat(test_dataset, test_labels)\n",
    "print('Training set', train_dataset.shape, train_labels.shape)\n",
    "print('Validation set', valid_dataset.shape, valid_labels.shape)\n",
    "print('Test set', test_dataset.shape, test_labels.shape)"
   ]
  },
  {
   "cell_type": "markdown",
   "metadata": {
    "colab_type": "text",
    "id": "klf21gpbAgb-"
   },
   "source": [
    "---\n",
    "Problem 2\n",
    "---------\n",
    "\n",
    "Try to get the best performance you can using a convolutional net. Look for example at the classic [LeNet5](http://yann.lecun.com/exdb/lenet/) architecture, adding Dropout, and/or adding learning rate decay.\n",
    "\n",
    "---"
   ]
  },
  {
   "cell_type": "code",
   "execution_count": 77,
   "metadata": {
    "collapsed": true
   },
   "outputs": [],
   "source": [
    "def conv2d(x, W, b, strides=1):\n",
    "    x = tf.nn.conv2d(x, W, strides=[1, strides, strides, 1], padding='SAME')\n",
    "    x = tf.nn.bias_add(x, b)\n",
    "    return tf.nn.relu(x)\n",
    "\n",
    "def maxpool2d(x, k=2):\n",
    "    return tf.nn.max_pool(x, ksize=[1, k, k, 1], strides=[1, k, k, 1],\n",
    "                          padding='SAME')"
   ]
  },
  {
   "cell_type": "code",
   "execution_count": 111,
   "metadata": {
    "collapsed": true
   },
   "outputs": [],
   "source": [
    "def conv_net(x, weights, biases, dropout):\n",
    "    \n",
    "    conv = conv2d(x, weights['wc1'], biases['bc1'])\n",
    "    conv = maxpool2d(conv, k=2)\n",
    "\n",
    "    conv = conv2d(conv, weights['wc2'], biases['bc2'])\n",
    "    conv = maxpool2d(conv, k=2)\n",
    "    \n",
    "    # Fully connected layer\n",
    "    shape = conv.get_shape().as_list()\n",
    "    fc = tf.reshape(conv, [-1, shape[1] * shape[2] * shape[3]])\n",
    "    fc = tf.matmul(fc, weights['wd1']) + biases['bd1']\n",
    "    fc = tf.nn.relu(fc)\n",
    "\n",
    "    fc = tf.nn.dropout(fc, dropout)\n",
    "\n",
    "    out = tf.matmul(fc, weights['out']) + biases['out']\n",
    "    return out"
   ]
  },
  {
   "cell_type": "code",
   "execution_count": 144,
   "metadata": {},
   "outputs": [
    {
     "name": "stdout",
     "output_type": "stream",
     "text": [
      "[None, 7, 7, 16]\n"
     ]
    }
   ],
   "source": [
    "image_size = 28\n",
    "num_labels = 10\n",
    "num_channels = 1 # grayscale\n",
    "dropout = 0.75\n",
    "\n",
    "# Parameters\n",
    "patch_size = 5\n",
    "batch_size = 128\n",
    "learning_rate = 0.001\n",
    "\n",
    "graph = tf.Graph()\n",
    "\n",
    "with graph.as_default():\n",
    "    \n",
    "    # Input data.\n",
    "    x = tf.placeholder(tf.float32, shape=[None, image_size, image_size, num_channels])\n",
    "    y = tf.placeholder(tf.float32, shape=[None, num_labels])\n",
    "         \n",
    "    keep_prob = tf.placeholder(tf.float32) \n",
    "    \n",
    "    \n",
    "    # Variables.\n",
    "    weights = {\n",
    "        # 5x5 conv, 1 input, 32 outputs\n",
    "        'wc1': tf.Variable(tf.truncated_normal([5, 5, 1, 16], stddev=0.1)),\n",
    "        # 5x5 conv, 32 inputs, 64 outputs\n",
    "        'wc2': tf.Variable(tf.truncated_normal([5, 5, 16, 16], stddev=0.1)),\n",
    "        # fully connected, 7*7*64 inputs, 1024 outputs\n",
    "        'wd1': tf.Variable(tf.truncated_normal([7*7*16, 1024], stddev=0.1)),\n",
    "        # 1024 inputs, 10 outputs (class prediction)\n",
    "        'out': tf.Variable(tf.truncated_normal([1024, num_labels], stddev=0.1))\n",
    "    }\n",
    "\n",
    "    biases = {\n",
    "        'bc1': tf.Variable(tf.random_normal([16])),\n",
    "        'bc2': tf.Variable(tf.random_normal([16])),\n",
    "        'bd1': tf.Variable(tf.random_normal([1024])),\n",
    "        'out': tf.Variable(tf.random_normal([num_labels]))\n",
    "    }\n",
    "    \n",
    "    # Construct model\n",
    "    pred = conv_net(x, weights, biases, keep_prob)\n",
    "\n",
    "    # Define loss and optimizer\n",
    "    cost = tf.reduce_mean(tf.nn.softmax_cross_entropy_with_logits(logits=pred, labels=y))\n",
    "    optimizer = tf.train.AdamOptimizer(learning_rate=learning_rate).minimize(cost)\n",
    "\n",
    "    # Evaluate model\n",
    "    correct_pred = tf.equal(tf.argmax(pred, 1), tf.argmax(y, 1))\n",
    "    accuracy = tf.reduce_mean(tf.cast(correct_pred, tf.float32))\n",
    "\n",
    "    # Initializing the variables\n",
    "    init = tf.global_variables_initializer()\n",
    "    "
   ]
  },
  {
   "cell_type": "code",
   "execution_count": 146,
   "metadata": {},
   "outputs": [
    {
     "name": "stdout",
     "output_type": "stream",
     "text": [
      "Iter 0, Minibatch Loss= 5.522115, Training Accuracy= 0.15625, Validation Accuracy =0.13100\n",
      "Iter 100, Minibatch Loss= 0.769351, Training Accuracy= 0.80469, Validation Accuracy =0.81260\n",
      "Iter 200, Minibatch Loss= 0.379498, Training Accuracy= 0.89844, Validation Accuracy =0.84740\n",
      "Iter 300, Minibatch Loss= 0.391994, Training Accuracy= 0.89844, Validation Accuracy =0.85430\n",
      "Iter 400, Minibatch Loss= 0.466789, Training Accuracy= 0.85938, Validation Accuracy =0.86530\n",
      "Iter 500, Minibatch Loss= 0.348914, Training Accuracy= 0.88281, Validation Accuracy =0.87220\n",
      "Iter 600, Minibatch Loss= 0.407786, Training Accuracy= 0.87500, Validation Accuracy =0.87720\n",
      "Iter 700, Minibatch Loss= 0.445098, Training Accuracy= 0.86719, Validation Accuracy =0.87920\n",
      "Iter 800, Minibatch Loss= 0.461619, Training Accuracy= 0.85938, Validation Accuracy =0.88430\n",
      "Iter 900, Minibatch Loss= 0.512550, Training Accuracy= 0.87500, Validation Accuracy =0.88740\n",
      "Iter 1000, Minibatch Loss= 0.339348, Training Accuracy= 0.89844, Validation Accuracy =0.88750\n",
      "Iter 1100, Minibatch Loss= 0.305671, Training Accuracy= 0.90625, Validation Accuracy =0.88510\n",
      "Iter 1200, Minibatch Loss= 0.378900, Training Accuracy= 0.88281, Validation Accuracy =0.89080\n",
      "Iter 1300, Minibatch Loss= 0.388398, Training Accuracy= 0.88281, Validation Accuracy =0.88900\n",
      "Iter 1400, Minibatch Loss= 0.316943, Training Accuracy= 0.89844, Validation Accuracy =0.89180\n",
      "Iter 1500, Minibatch Loss= 0.345563, Training Accuracy= 0.89844, Validation Accuracy =0.89650\n",
      "Iter 1600, Minibatch Loss= 0.320302, Training Accuracy= 0.92969, Validation Accuracy =0.89620\n",
      "Iter 1700, Minibatch Loss= 0.432196, Training Accuracy= 0.87500, Validation Accuracy =0.89920\n",
      "Iter 1800, Minibatch Loss= 0.165856, Training Accuracy= 0.92969, Validation Accuracy =0.89840\n",
      "Iter 1900, Minibatch Loss= 0.281689, Training Accuracy= 0.91406, Validation Accuracy =0.89980\n",
      "Iter 2000, Minibatch Loss= 0.285939, Training Accuracy= 0.92188, Validation Accuracy =0.89880\n",
      "Iter 2100, Minibatch Loss= 0.220054, Training Accuracy= 0.93750, Validation Accuracy =0.90010\n",
      "Iter 2200, Minibatch Loss= 0.263380, Training Accuracy= 0.91406, Validation Accuracy =0.90100\n",
      "Iter 2300, Minibatch Loss= 0.276317, Training Accuracy= 0.92188, Validation Accuracy =0.90050\n",
      "Iter 2400, Minibatch Loss= 0.263203, Training Accuracy= 0.91406, Validation Accuracy =0.89940\n",
      "Iter 2500, Minibatch Loss= 0.265453, Training Accuracy= 0.90625, Validation Accuracy =0.90740\n",
      "Iter 2600, Minibatch Loss= 0.306343, Training Accuracy= 0.90625, Validation Accuracy =0.90400\n",
      "Iter 2700, Minibatch Loss= 0.302010, Training Accuracy= 0.89844, Validation Accuracy =0.90420\n",
      "Iter 2800, Minibatch Loss= 0.371583, Training Accuracy= 0.87500, Validation Accuracy =0.90050\n",
      "Iter 2900, Minibatch Loss= 0.265939, Training Accuracy= 0.92969, Validation Accuracy =0.90560\n",
      "Iter 3000, Minibatch Loss= 0.216107, Training Accuracy= 0.94531, Validation Accuracy =0.90530\n",
      "Optimization Finished!\n",
      "Testing Accuracy: 0.9555\n"
     ]
    }
   ],
   "source": [
    "def next_batch(batch_size, x, y, step):\n",
    "    offset = (step * batch_size) % (train_labels.shape[0] - batch_size)\n",
    "    batch_x = train_dataset[offset:(offset + batch_size), :, :, :]\n",
    "    batch_y = train_labels[offset:(offset + batch_size), :]\n",
    "    return batch_x, batch_y\n",
    "\n",
    "num_steps = 3001\n",
    "\n",
    "with tf.Session(graph=graph) as sess:\n",
    "    sess.run(init)\n",
    "    # Keep training until reach max iterations\n",
    "    for step in range(num_steps):\n",
    "        batch_x, batch_y = next_batch(batch_size, x, y, step)\n",
    "        \n",
    "        # Run optimization op (backprop)\n",
    "        sess.run(optimizer, feed_dict={x: batch_x, \n",
    "                                       y: batch_y,\n",
    "                                       keep_prob: dropout})\n",
    "        if step % display_step == 0:\n",
    "            loss, acc = sess.run([cost, accuracy], feed_dict={x: batch_x,\n",
    "                                                              y: batch_y,\n",
    "                                                              keep_prob: 1.})\n",
    "            valid_acc = sess.run(accuracy, feed_dict={x: valid_dataset,\n",
    "                                                       y: valid_labels,\n",
    "                                                       keep_prob: 1.})\n",
    "            print(\"Iter \" + str(step) + \", Minibatch Loss= \" +\n",
    "                  \"{:.6f}\".format(loss) + \", Training Accuracy= \" + \\\n",
    "                  \"{:.5f}\".format(acc) + \", Validation Accuracy =\" + \\\n",
    "                  \"{:.5f}\".format(valid_acc))\n",
    "        step += 1\n",
    "    print(\"Optimization Finished!\")\n",
    "\n",
    "    print(\"Testing Accuracy:\", \\\n",
    "        sess.run(accuracy, feed_dict={x: test_dataset,\n",
    "                                      y: test_labels,\n",
    "                                      keep_prob: 1.}))\n"
   ]
  },
  {
   "cell_type": "code",
   "execution_count": null,
   "metadata": {
    "collapsed": true
   },
   "outputs": [],
   "source": []
  }
 ],
 "metadata": {
  "colab": {
   "default_view": {},
   "name": "conv_NN.ipynb",
   "provenance": [],
   "version": "0.3.2",
   "views": {}
  },
  "kernelspec": {
   "display_name": "Python 3",
   "language": "python",
   "name": "python3"
  },
  "language_info": {
   "codemirror_mode": {
    "name": "ipython",
    "version": 3
   },
   "file_extension": ".py",
   "mimetype": "text/x-python",
   "name": "python",
   "nbconvert_exporter": "python",
   "pygments_lexer": "ipython3",
   "version": "3.5.2"
  }
 },
 "nbformat": 4,
 "nbformat_minor": 1
}
